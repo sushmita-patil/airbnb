{
  "nbformat": 4,
  "nbformat_minor": 0,
  "metadata": {
    "colab": {
      "name": "Airbnb_supervised.ipynb",
      "provenance": [],
      "collapsed_sections": []
    },
    "kernelspec": {
      "name": "python3",
      "display_name": "Python 3"
    }
  },
  "cells": [
    {
      "cell_type": "markdown",
      "metadata": {
        "id": "sol-5L-jwN3C"
      },
      "source": [
        "#Supervised machine learning on Airbnb dataset "
      ]
    },
    {
      "cell_type": "code",
      "metadata": {
        "id": "fV6Deddpdr2T"
      },
      "source": [
        "import pandas as pd\r\n",
        "import numpy as np\r\n",
        "import matplotlib.pyplot as plt\r\n",
        "import seaborn as sns\r\n",
        "import sklearn\r\n",
        "from sklearn import linear_model\r\n",
        "from sklearn import metrics\r\n",
        "from sklearn.metrics import r2_score, mean_squared_error"
      ],
      "execution_count": null,
      "outputs": []
    },
    {
      "cell_type": "code",
      "metadata": {
        "id": "APfwmFJ4eY_B"
      },
      "source": [
        "df=pd.read_csv(r\"/content/sample_data/AB_NYC_2019.csv\")"
      ],
      "execution_count": null,
      "outputs": []
    },
    {
      "cell_type": "code",
      "metadata": {
        "id": "S3eOO280ed2-",
        "colab": {
          "base_uri": "https://localhost:8080/",
          "height": 407
        },
        "outputId": "a899b857-ee3b-4840-d7ca-b8539ebb6485"
      },
      "source": [
        "df.head()"
      ],
      "execution_count": null,
      "outputs": [
        {
          "output_type": "execute_result",
          "data": {
            "text/html": [
              "<div>\n",
              "<style scoped>\n",
              "    .dataframe tbody tr th:only-of-type {\n",
              "        vertical-align: middle;\n",
              "    }\n",
              "\n",
              "    .dataframe tbody tr th {\n",
              "        vertical-align: top;\n",
              "    }\n",
              "\n",
              "    .dataframe thead th {\n",
              "        text-align: right;\n",
              "    }\n",
              "</style>\n",
              "<table border=\"1\" class=\"dataframe\">\n",
              "  <thead>\n",
              "    <tr style=\"text-align: right;\">\n",
              "      <th></th>\n",
              "      <th>id</th>\n",
              "      <th>name</th>\n",
              "      <th>host_id</th>\n",
              "      <th>host_name</th>\n",
              "      <th>neighbourhood_group</th>\n",
              "      <th>neighbourhood</th>\n",
              "      <th>latitude</th>\n",
              "      <th>longitude</th>\n",
              "      <th>room_type</th>\n",
              "      <th>price</th>\n",
              "      <th>minimum_nights</th>\n",
              "      <th>number_of_reviews</th>\n",
              "      <th>last_review</th>\n",
              "      <th>reviews_per_month</th>\n",
              "      <th>calculated_host_listings_count</th>\n",
              "      <th>availability_365</th>\n",
              "    </tr>\n",
              "  </thead>\n",
              "  <tbody>\n",
              "    <tr>\n",
              "      <th>0</th>\n",
              "      <td>2539</td>\n",
              "      <td>Clean &amp; quiet apt home by the park</td>\n",
              "      <td>2787</td>\n",
              "      <td>John</td>\n",
              "      <td>Brooklyn</td>\n",
              "      <td>Kensington</td>\n",
              "      <td>40.64749</td>\n",
              "      <td>-73.97237</td>\n",
              "      <td>Private room</td>\n",
              "      <td>149</td>\n",
              "      <td>1</td>\n",
              "      <td>9</td>\n",
              "      <td>2018-10-19</td>\n",
              "      <td>0.21</td>\n",
              "      <td>6</td>\n",
              "      <td>365</td>\n",
              "    </tr>\n",
              "    <tr>\n",
              "      <th>1</th>\n",
              "      <td>2595</td>\n",
              "      <td>Skylit Midtown Castle</td>\n",
              "      <td>2845</td>\n",
              "      <td>Jennifer</td>\n",
              "      <td>Manhattan</td>\n",
              "      <td>Midtown</td>\n",
              "      <td>40.75362</td>\n",
              "      <td>-73.98377</td>\n",
              "      <td>Entire home/apt</td>\n",
              "      <td>225</td>\n",
              "      <td>1</td>\n",
              "      <td>45</td>\n",
              "      <td>2019-05-21</td>\n",
              "      <td>0.38</td>\n",
              "      <td>2</td>\n",
              "      <td>355</td>\n",
              "    </tr>\n",
              "    <tr>\n",
              "      <th>2</th>\n",
              "      <td>3647</td>\n",
              "      <td>THE VILLAGE OF HARLEM....NEW YORK !</td>\n",
              "      <td>4632</td>\n",
              "      <td>Elisabeth</td>\n",
              "      <td>Manhattan</td>\n",
              "      <td>Harlem</td>\n",
              "      <td>40.80902</td>\n",
              "      <td>-73.94190</td>\n",
              "      <td>Private room</td>\n",
              "      <td>150</td>\n",
              "      <td>3</td>\n",
              "      <td>0</td>\n",
              "      <td>NaN</td>\n",
              "      <td>NaN</td>\n",
              "      <td>1</td>\n",
              "      <td>365</td>\n",
              "    </tr>\n",
              "    <tr>\n",
              "      <th>3</th>\n",
              "      <td>3831</td>\n",
              "      <td>Cozy Entire Floor of Brownstone</td>\n",
              "      <td>4869</td>\n",
              "      <td>LisaRoxanne</td>\n",
              "      <td>Brooklyn</td>\n",
              "      <td>Clinton Hill</td>\n",
              "      <td>40.68514</td>\n",
              "      <td>-73.95976</td>\n",
              "      <td>Entire home/apt</td>\n",
              "      <td>89</td>\n",
              "      <td>1</td>\n",
              "      <td>270</td>\n",
              "      <td>2019-07-05</td>\n",
              "      <td>4.64</td>\n",
              "      <td>1</td>\n",
              "      <td>194</td>\n",
              "    </tr>\n",
              "    <tr>\n",
              "      <th>4</th>\n",
              "      <td>5022</td>\n",
              "      <td>Entire Apt: Spacious Studio/Loft by central park</td>\n",
              "      <td>7192</td>\n",
              "      <td>Laura</td>\n",
              "      <td>Manhattan</td>\n",
              "      <td>East Harlem</td>\n",
              "      <td>40.79851</td>\n",
              "      <td>-73.94399</td>\n",
              "      <td>Entire home/apt</td>\n",
              "      <td>80</td>\n",
              "      <td>10</td>\n",
              "      <td>9</td>\n",
              "      <td>2018-11-19</td>\n",
              "      <td>0.10</td>\n",
              "      <td>1</td>\n",
              "      <td>0</td>\n",
              "    </tr>\n",
              "  </tbody>\n",
              "</table>\n",
              "</div>"
            ],
            "text/plain": [
              "     id  ... availability_365\n",
              "0  2539  ...              365\n",
              "1  2595  ...              355\n",
              "2  3647  ...              365\n",
              "3  3831  ...              194\n",
              "4  5022  ...                0\n",
              "\n",
              "[5 rows x 16 columns]"
            ]
          },
          "metadata": {
            "tags": []
          },
          "execution_count": 3
        }
      ]
    },
    {
      "cell_type": "code",
      "metadata": {
        "colab": {
          "base_uri": "https://localhost:8080/"
        },
        "id": "pOLBxwT6fg4d",
        "outputId": "1cc9af8c-ed62-4c78-e64e-f1c6d2c393e3"
      },
      "source": [
        "df.columns"
      ],
      "execution_count": null,
      "outputs": [
        {
          "output_type": "execute_result",
          "data": {
            "text/plain": [
              "Index(['id', 'name', 'host_id', 'host_name', 'neighbourhood_group',\n",
              "       'neighbourhood', 'latitude', 'longitude', 'room_type', 'price',\n",
              "       'minimum_nights', 'number_of_reviews', 'last_review',\n",
              "       'reviews_per_month', 'calculated_host_listings_count',\n",
              "       'availability_365'],\n",
              "      dtype='object')"
            ]
          },
          "metadata": {
            "tags": []
          },
          "execution_count": 4
        }
      ]
    },
    {
      "cell_type": "code",
      "metadata": {
        "colab": {
          "base_uri": "https://localhost:8080/"
        },
        "id": "aWqWNQqVfifH",
        "outputId": "a935f151-5d93-462f-d85f-505d48de047b"
      },
      "source": [
        "df.info()"
      ],
      "execution_count": null,
      "outputs": [
        {
          "output_type": "stream",
          "text": [
            "<class 'pandas.core.frame.DataFrame'>\n",
            "RangeIndex: 48895 entries, 0 to 48894\n",
            "Data columns (total 16 columns):\n",
            " #   Column                          Non-Null Count  Dtype  \n",
            "---  ------                          --------------  -----  \n",
            " 0   id                              48895 non-null  int64  \n",
            " 1   name                            48879 non-null  object \n",
            " 2   host_id                         48895 non-null  int64  \n",
            " 3   host_name                       48874 non-null  object \n",
            " 4   neighbourhood_group             48895 non-null  object \n",
            " 5   neighbourhood                   48895 non-null  object \n",
            " 6   latitude                        48895 non-null  float64\n",
            " 7   longitude                       48895 non-null  float64\n",
            " 8   room_type                       48895 non-null  object \n",
            " 9   price                           48895 non-null  int64  \n",
            " 10  minimum_nights                  48895 non-null  int64  \n",
            " 11  number_of_reviews               48895 non-null  int64  \n",
            " 12  last_review                     38843 non-null  object \n",
            " 13  reviews_per_month               38843 non-null  float64\n",
            " 14  calculated_host_listings_count  48895 non-null  int64  \n",
            " 15  availability_365                48895 non-null  int64  \n",
            "dtypes: float64(3), int64(7), object(6)\n",
            "memory usage: 6.0+ MB\n"
          ],
          "name": "stdout"
        }
      ]
    },
    {
      "cell_type": "code",
      "metadata": {
        "colab": {
          "base_uri": "https://localhost:8080/",
          "height": 311
        },
        "id": "iE0g1oDtfkUE",
        "outputId": "1acd20ec-3f3a-45db-b484-b5247c55f3c3"
      },
      "source": [
        "df.describe()"
      ],
      "execution_count": null,
      "outputs": [
        {
          "output_type": "execute_result",
          "data": {
            "text/html": [
              "<div>\n",
              "<style scoped>\n",
              "    .dataframe tbody tr th:only-of-type {\n",
              "        vertical-align: middle;\n",
              "    }\n",
              "\n",
              "    .dataframe tbody tr th {\n",
              "        vertical-align: top;\n",
              "    }\n",
              "\n",
              "    .dataframe thead th {\n",
              "        text-align: right;\n",
              "    }\n",
              "</style>\n",
              "<table border=\"1\" class=\"dataframe\">\n",
              "  <thead>\n",
              "    <tr style=\"text-align: right;\">\n",
              "      <th></th>\n",
              "      <th>id</th>\n",
              "      <th>host_id</th>\n",
              "      <th>latitude</th>\n",
              "      <th>longitude</th>\n",
              "      <th>price</th>\n",
              "      <th>minimum_nights</th>\n",
              "      <th>number_of_reviews</th>\n",
              "      <th>reviews_per_month</th>\n",
              "      <th>calculated_host_listings_count</th>\n",
              "      <th>availability_365</th>\n",
              "    </tr>\n",
              "  </thead>\n",
              "  <tbody>\n",
              "    <tr>\n",
              "      <th>count</th>\n",
              "      <td>4.889500e+04</td>\n",
              "      <td>4.889500e+04</td>\n",
              "      <td>48895.000000</td>\n",
              "      <td>48895.000000</td>\n",
              "      <td>48895.000000</td>\n",
              "      <td>48895.000000</td>\n",
              "      <td>48895.000000</td>\n",
              "      <td>38843.000000</td>\n",
              "      <td>48895.000000</td>\n",
              "      <td>48895.000000</td>\n",
              "    </tr>\n",
              "    <tr>\n",
              "      <th>mean</th>\n",
              "      <td>1.901714e+07</td>\n",
              "      <td>6.762001e+07</td>\n",
              "      <td>40.728949</td>\n",
              "      <td>-73.952170</td>\n",
              "      <td>152.720687</td>\n",
              "      <td>7.029962</td>\n",
              "      <td>23.274466</td>\n",
              "      <td>1.373221</td>\n",
              "      <td>7.143982</td>\n",
              "      <td>112.781327</td>\n",
              "    </tr>\n",
              "    <tr>\n",
              "      <th>std</th>\n",
              "      <td>1.098311e+07</td>\n",
              "      <td>7.861097e+07</td>\n",
              "      <td>0.054530</td>\n",
              "      <td>0.046157</td>\n",
              "      <td>240.154170</td>\n",
              "      <td>20.510550</td>\n",
              "      <td>44.550582</td>\n",
              "      <td>1.680442</td>\n",
              "      <td>32.952519</td>\n",
              "      <td>131.622289</td>\n",
              "    </tr>\n",
              "    <tr>\n",
              "      <th>min</th>\n",
              "      <td>2.539000e+03</td>\n",
              "      <td>2.438000e+03</td>\n",
              "      <td>40.499790</td>\n",
              "      <td>-74.244420</td>\n",
              "      <td>0.000000</td>\n",
              "      <td>1.000000</td>\n",
              "      <td>0.000000</td>\n",
              "      <td>0.010000</td>\n",
              "      <td>1.000000</td>\n",
              "      <td>0.000000</td>\n",
              "    </tr>\n",
              "    <tr>\n",
              "      <th>25%</th>\n",
              "      <td>9.471945e+06</td>\n",
              "      <td>7.822033e+06</td>\n",
              "      <td>40.690100</td>\n",
              "      <td>-73.983070</td>\n",
              "      <td>69.000000</td>\n",
              "      <td>1.000000</td>\n",
              "      <td>1.000000</td>\n",
              "      <td>0.190000</td>\n",
              "      <td>1.000000</td>\n",
              "      <td>0.000000</td>\n",
              "    </tr>\n",
              "    <tr>\n",
              "      <th>50%</th>\n",
              "      <td>1.967728e+07</td>\n",
              "      <td>3.079382e+07</td>\n",
              "      <td>40.723070</td>\n",
              "      <td>-73.955680</td>\n",
              "      <td>106.000000</td>\n",
              "      <td>3.000000</td>\n",
              "      <td>5.000000</td>\n",
              "      <td>0.720000</td>\n",
              "      <td>1.000000</td>\n",
              "      <td>45.000000</td>\n",
              "    </tr>\n",
              "    <tr>\n",
              "      <th>75%</th>\n",
              "      <td>2.915218e+07</td>\n",
              "      <td>1.074344e+08</td>\n",
              "      <td>40.763115</td>\n",
              "      <td>-73.936275</td>\n",
              "      <td>175.000000</td>\n",
              "      <td>5.000000</td>\n",
              "      <td>24.000000</td>\n",
              "      <td>2.020000</td>\n",
              "      <td>2.000000</td>\n",
              "      <td>227.000000</td>\n",
              "    </tr>\n",
              "    <tr>\n",
              "      <th>max</th>\n",
              "      <td>3.648724e+07</td>\n",
              "      <td>2.743213e+08</td>\n",
              "      <td>40.913060</td>\n",
              "      <td>-73.712990</td>\n",
              "      <td>10000.000000</td>\n",
              "      <td>1250.000000</td>\n",
              "      <td>629.000000</td>\n",
              "      <td>58.500000</td>\n",
              "      <td>327.000000</td>\n",
              "      <td>365.000000</td>\n",
              "    </tr>\n",
              "  </tbody>\n",
              "</table>\n",
              "</div>"
            ],
            "text/plain": [
              "                 id  ...  availability_365\n",
              "count  4.889500e+04  ...      48895.000000\n",
              "mean   1.901714e+07  ...        112.781327\n",
              "std    1.098311e+07  ...        131.622289\n",
              "min    2.539000e+03  ...          0.000000\n",
              "25%    9.471945e+06  ...          0.000000\n",
              "50%    1.967728e+07  ...         45.000000\n",
              "75%    2.915218e+07  ...        227.000000\n",
              "max    3.648724e+07  ...        365.000000\n",
              "\n",
              "[8 rows x 10 columns]"
            ]
          },
          "metadata": {
            "tags": []
          },
          "execution_count": 6
        }
      ]
    },
    {
      "cell_type": "code",
      "metadata": {
        "colab": {
          "base_uri": "https://localhost:8080/",
          "height": 372
        },
        "id": "tULOPsRlfmNv",
        "outputId": "40172413-ea23-485e-d90b-441b5fe6e0b9"
      },
      "source": [
        "df.corr()"
      ],
      "execution_count": null,
      "outputs": [
        {
          "output_type": "execute_result",
          "data": {
            "text/html": [
              "<div>\n",
              "<style scoped>\n",
              "    .dataframe tbody tr th:only-of-type {\n",
              "        vertical-align: middle;\n",
              "    }\n",
              "\n",
              "    .dataframe tbody tr th {\n",
              "        vertical-align: top;\n",
              "    }\n",
              "\n",
              "    .dataframe thead th {\n",
              "        text-align: right;\n",
              "    }\n",
              "</style>\n",
              "<table border=\"1\" class=\"dataframe\">\n",
              "  <thead>\n",
              "    <tr style=\"text-align: right;\">\n",
              "      <th></th>\n",
              "      <th>id</th>\n",
              "      <th>host_id</th>\n",
              "      <th>latitude</th>\n",
              "      <th>longitude</th>\n",
              "      <th>price</th>\n",
              "      <th>minimum_nights</th>\n",
              "      <th>number_of_reviews</th>\n",
              "      <th>reviews_per_month</th>\n",
              "      <th>calculated_host_listings_count</th>\n",
              "      <th>availability_365</th>\n",
              "    </tr>\n",
              "  </thead>\n",
              "  <tbody>\n",
              "    <tr>\n",
              "      <th>id</th>\n",
              "      <td>1.000000</td>\n",
              "      <td>0.588290</td>\n",
              "      <td>-0.003125</td>\n",
              "      <td>0.090908</td>\n",
              "      <td>0.010619</td>\n",
              "      <td>-0.013224</td>\n",
              "      <td>-0.319760</td>\n",
              "      <td>0.291828</td>\n",
              "      <td>0.133272</td>\n",
              "      <td>0.085468</td>\n",
              "    </tr>\n",
              "    <tr>\n",
              "      <th>host_id</th>\n",
              "      <td>0.588290</td>\n",
              "      <td>1.000000</td>\n",
              "      <td>0.020224</td>\n",
              "      <td>0.127055</td>\n",
              "      <td>0.015309</td>\n",
              "      <td>-0.017364</td>\n",
              "      <td>-0.140106</td>\n",
              "      <td>0.296417</td>\n",
              "      <td>0.154950</td>\n",
              "      <td>0.203492</td>\n",
              "    </tr>\n",
              "    <tr>\n",
              "      <th>latitude</th>\n",
              "      <td>-0.003125</td>\n",
              "      <td>0.020224</td>\n",
              "      <td>1.000000</td>\n",
              "      <td>0.084788</td>\n",
              "      <td>0.033939</td>\n",
              "      <td>0.024869</td>\n",
              "      <td>-0.015389</td>\n",
              "      <td>-0.010142</td>\n",
              "      <td>0.019517</td>\n",
              "      <td>-0.010983</td>\n",
              "    </tr>\n",
              "    <tr>\n",
              "      <th>longitude</th>\n",
              "      <td>0.090908</td>\n",
              "      <td>0.127055</td>\n",
              "      <td>0.084788</td>\n",
              "      <td>1.000000</td>\n",
              "      <td>-0.150019</td>\n",
              "      <td>-0.062747</td>\n",
              "      <td>0.059094</td>\n",
              "      <td>0.145948</td>\n",
              "      <td>-0.114713</td>\n",
              "      <td>0.082731</td>\n",
              "    </tr>\n",
              "    <tr>\n",
              "      <th>price</th>\n",
              "      <td>0.010619</td>\n",
              "      <td>0.015309</td>\n",
              "      <td>0.033939</td>\n",
              "      <td>-0.150019</td>\n",
              "      <td>1.000000</td>\n",
              "      <td>0.042799</td>\n",
              "      <td>-0.047954</td>\n",
              "      <td>-0.030608</td>\n",
              "      <td>0.057472</td>\n",
              "      <td>0.081829</td>\n",
              "    </tr>\n",
              "    <tr>\n",
              "      <th>minimum_nights</th>\n",
              "      <td>-0.013224</td>\n",
              "      <td>-0.017364</td>\n",
              "      <td>0.024869</td>\n",
              "      <td>-0.062747</td>\n",
              "      <td>0.042799</td>\n",
              "      <td>1.000000</td>\n",
              "      <td>-0.080116</td>\n",
              "      <td>-0.121702</td>\n",
              "      <td>0.127960</td>\n",
              "      <td>0.144303</td>\n",
              "    </tr>\n",
              "    <tr>\n",
              "      <th>number_of_reviews</th>\n",
              "      <td>-0.319760</td>\n",
              "      <td>-0.140106</td>\n",
              "      <td>-0.015389</td>\n",
              "      <td>0.059094</td>\n",
              "      <td>-0.047954</td>\n",
              "      <td>-0.080116</td>\n",
              "      <td>1.000000</td>\n",
              "      <td>0.549868</td>\n",
              "      <td>-0.072376</td>\n",
              "      <td>0.172028</td>\n",
              "    </tr>\n",
              "    <tr>\n",
              "      <th>reviews_per_month</th>\n",
              "      <td>0.291828</td>\n",
              "      <td>0.296417</td>\n",
              "      <td>-0.010142</td>\n",
              "      <td>0.145948</td>\n",
              "      <td>-0.030608</td>\n",
              "      <td>-0.121702</td>\n",
              "      <td>0.549868</td>\n",
              "      <td>1.000000</td>\n",
              "      <td>-0.009421</td>\n",
              "      <td>0.185791</td>\n",
              "    </tr>\n",
              "    <tr>\n",
              "      <th>calculated_host_listings_count</th>\n",
              "      <td>0.133272</td>\n",
              "      <td>0.154950</td>\n",
              "      <td>0.019517</td>\n",
              "      <td>-0.114713</td>\n",
              "      <td>0.057472</td>\n",
              "      <td>0.127960</td>\n",
              "      <td>-0.072376</td>\n",
              "      <td>-0.009421</td>\n",
              "      <td>1.000000</td>\n",
              "      <td>0.225701</td>\n",
              "    </tr>\n",
              "    <tr>\n",
              "      <th>availability_365</th>\n",
              "      <td>0.085468</td>\n",
              "      <td>0.203492</td>\n",
              "      <td>-0.010983</td>\n",
              "      <td>0.082731</td>\n",
              "      <td>0.081829</td>\n",
              "      <td>0.144303</td>\n",
              "      <td>0.172028</td>\n",
              "      <td>0.185791</td>\n",
              "      <td>0.225701</td>\n",
              "      <td>1.000000</td>\n",
              "    </tr>\n",
              "  </tbody>\n",
              "</table>\n",
              "</div>"
            ],
            "text/plain": [
              "                                      id  ...  availability_365\n",
              "id                              1.000000  ...          0.085468\n",
              "host_id                         0.588290  ...          0.203492\n",
              "latitude                       -0.003125  ...         -0.010983\n",
              "longitude                       0.090908  ...          0.082731\n",
              "price                           0.010619  ...          0.081829\n",
              "minimum_nights                 -0.013224  ...          0.144303\n",
              "number_of_reviews              -0.319760  ...          0.172028\n",
              "reviews_per_month               0.291828  ...          0.185791\n",
              "calculated_host_listings_count  0.133272  ...          0.225701\n",
              "availability_365                0.085468  ...          1.000000\n",
              "\n",
              "[10 rows x 10 columns]"
            ]
          },
          "metadata": {
            "tags": []
          },
          "execution_count": 7
        }
      ]
    },
    {
      "cell_type": "code",
      "metadata": {
        "colab": {
          "base_uri": "https://localhost:8080/",
          "height": 806
        },
        "id": "SQnbJ1Swfnyz",
        "outputId": "71067ab5-2562-4cdf-82c9-07d4a22cbc1d"
      },
      "source": [
        "plt.figure(figsize=(12,10))\r\n",
        "sns.heatmap(df.corr(),annot=True,linewidths=1,cmap=\"ocean_r\",fmt=\".2f\")\r\n",
        "plt.suptitle(\"Correlation Map\",fontsize=18)\r\n",
        "plt.show()\r\n"
      ],
      "execution_count": null,
      "outputs": [
        {
          "output_type": "display_data",
          "data": {
            "image/png": "[encoded data removed]",
            "text/plain": [
              "<Figure size 864x720 with 2 Axes>"
            ]
          },
          "metadata": {
            "tags": [],
            "needs_background": "light"
          }
        }
      ]
    },
    {
      "cell_type": "code",
      "metadata": {
        "colab": {
          "base_uri": "https://localhost:8080/",
          "height": 534
        },
        "id": "pU0rKhKgsgpV",
        "outputId": "87a7097a-5369-41ba-82f9-1bb671252e55"
      },
      "source": [
        "pd.DataFrame(round(df.isnull().sum()/df.shape[0] * 100,3), columns = ['Missing'])"
      ],
      "execution_count": null,
      "outputs": [
        {
          "output_type": "execute_result",
          "data": {
            "text/html": [
              "<div>\n",
              "<style scoped>\n",
              "    .dataframe tbody tr th:only-of-type {\n",
              "        vertical-align: middle;\n",
              "    }\n",
              "\n",
              "    .dataframe tbody tr th {\n",
              "        vertical-align: top;\n",
              "    }\n",
              "\n",
              "    .dataframe thead th {\n",
              "        text-align: right;\n",
              "    }\n",
              "</style>\n",
              "<table border=\"1\" class=\"dataframe\">\n",
              "  <thead>\n",
              "    <tr style=\"text-align: right;\">\n",
              "      <th></th>\n",
              "      <th>Missing</th>\n",
              "    </tr>\n",
              "  </thead>\n",
              "  <tbody>\n",
              "    <tr>\n",
              "      <th>id</th>\n",
              "      <td>0.000</td>\n",
              "    </tr>\n",
              "    <tr>\n",
              "      <th>name</th>\n",
              "      <td>0.033</td>\n",
              "    </tr>\n",
              "    <tr>\n",
              "      <th>host_id</th>\n",
              "      <td>0.000</td>\n",
              "    </tr>\n",
              "    <tr>\n",
              "      <th>host_name</th>\n",
              "      <td>0.043</td>\n",
              "    </tr>\n",
              "    <tr>\n",
              "      <th>neighbourhood_group</th>\n",
              "      <td>0.000</td>\n",
              "    </tr>\n",
              "    <tr>\n",
              "      <th>neighbourhood</th>\n",
              "      <td>0.000</td>\n",
              "    </tr>\n",
              "    <tr>\n",
              "      <th>latitude</th>\n",
              "      <td>0.000</td>\n",
              "    </tr>\n",
              "    <tr>\n",
              "      <th>longitude</th>\n",
              "      <td>0.000</td>\n",
              "    </tr>\n",
              "    <tr>\n",
              "      <th>room_type</th>\n",
              "      <td>0.000</td>\n",
              "    </tr>\n",
              "    <tr>\n",
              "      <th>price</th>\n",
              "      <td>0.000</td>\n",
              "    </tr>\n",
              "    <tr>\n",
              "      <th>minimum_nights</th>\n",
              "      <td>0.000</td>\n",
              "    </tr>\n",
              "    <tr>\n",
              "      <th>number_of_reviews</th>\n",
              "      <td>0.000</td>\n",
              "    </tr>\n",
              "    <tr>\n",
              "      <th>last_review</th>\n",
              "      <td>20.558</td>\n",
              "    </tr>\n",
              "    <tr>\n",
              "      <th>reviews_per_month</th>\n",
              "      <td>20.558</td>\n",
              "    </tr>\n",
              "    <tr>\n",
              "      <th>calculated_host_listings_count</th>\n",
              "      <td>0.000</td>\n",
              "    </tr>\n",
              "    <tr>\n",
              "      <th>availability_365</th>\n",
              "      <td>0.000</td>\n",
              "    </tr>\n",
              "  </tbody>\n",
              "</table>\n",
              "</div>"
            ],
            "text/plain": [
              "                                Missing\n",
              "id                                0.000\n",
              "name                              0.033\n",
              "host_id                           0.000\n",
              "host_name                         0.043\n",
              "neighbourhood_group               0.000\n",
              "neighbourhood                     0.000\n",
              "latitude                          0.000\n",
              "longitude                         0.000\n",
              "room_type                         0.000\n",
              "price                             0.000\n",
              "minimum_nights                    0.000\n",
              "number_of_reviews                 0.000\n",
              "last_review                      20.558\n",
              "reviews_per_month                20.558\n",
              "calculated_host_listings_count    0.000\n",
              "availability_365                  0.000"
            ]
          },
          "metadata": {
            "tags": []
          },
          "execution_count": 9
        }
      ]
    },
    {
      "cell_type": "code",
      "metadata": {
        "colab": {
          "base_uri": "https://localhost:8080/",
          "height": 696
        },
        "id": "pfaQjyC-sju7",
        "outputId": "71ce032f-86c4-40e1-fdbb-48c55b631253"
      },
      "source": [
        "from scipy.stats import norm\r\n",
        "plt.figure(figsize=(10,10))\r\n",
        "sns.distplot(df['price'], fit=norm)\r\n",
        "plt.title(\"Price Distribution Plot\",size=15, weight='bold')"
      ],
      "execution_count": null,
      "outputs": [
        {
          "output_type": "stream",
          "text": [
            "/usr/local/lib/python3.6/dist-packages/seaborn/distributions.py:2551: FutureWarning: `distplot` is a deprecated function and will be removed in a future version. Please adapt your code to use either `displot` (a figure-level function with similar flexibility) or `histplot` (an axes-level function for histograms).\n",
            "  warnings.warn(msg, FutureWarning)\n"
          ],
          "name": "stderr"
        },
        {
          "output_type": "execute_result",
          "data": {
            "text/plain": [
              "Text(0.5, 1.0, 'Price Distribution Plot')"
            ]
          },
          "metadata": {
            "tags": []
          },
          "execution_count": 10
        },
        {
          "output_type": "display_data",
          "data": {
            "image/png": "[encoded data removed]",
            "text/plain": [
              "<Figure size 720x720 with 1 Axes>"
            ]
          },
          "metadata": {
            "tags": [],
            "needs_background": "light"
          }
        }
      ]
    },
    {
      "cell_type": "markdown",
      "metadata": {
        "id": "aU3HArOGspmr"
      },
      "source": [
        "SINCE IT IS RIGHTLY SKEWED LOG TRANSFORMATION WILL BE USED TO MAKE THIS FEATURE LESS SKEWED\r\n",
        "\r\n",
        "CONVERTING INTO NORMAL DISTRIBUTION"
      ]
    },
    {
      "cell_type": "code",
      "metadata": {
        "id": "WjL5zGVjsnBl"
      },
      "source": [
        "df['price'] = np.log(df.price+1)"
      ],
      "execution_count": null,
      "outputs": []
    },
    {
      "cell_type": "code",
      "metadata": {
        "colab": {
          "base_uri": "https://localhost:8080/",
          "height": 696
        },
        "id": "RsKCxEy6svwh",
        "outputId": "4c0ad295-b98b-42e2-9e5c-4cc5b0754ec5"
      },
      "source": [
        "plt.figure(figsize=(12,10))\r\n",
        "sns.distplot(df['price'], fit=norm)\r\n",
        "plt.title(\"Log-Price Distribution Plot\",size=15, weight='bold')"
      ],
      "execution_count": null,
      "outputs": [
        {
          "output_type": "stream",
          "text": [
            "/usr/local/lib/python3.6/dist-packages/seaborn/distributions.py:2551: FutureWarning: `distplot` is a deprecated function and will be removed in a future version. Please adapt your code to use either `displot` (a figure-level function with similar flexibility) or `histplot` (an axes-level function for histograms).\n",
            "  warnings.warn(msg, FutureWarning)\n"
          ],
          "name": "stderr"
        },
        {
          "output_type": "execute_result",
          "data": {
            "text/plain": [
              "Text(0.5, 1.0, 'Log-Price Distribution Plot')"
            ]
          },
          "metadata": {
            "tags": []
          },
          "execution_count": 12
        },
        {
          "output_type": "display_data",
          "data": {
            "image/png": "[encoded data removed]",
            "text/plain": [
              "<Figure size 864x720 with 1 Axes>"
            ]
          },
          "metadata": {
            "tags": [],
            "needs_background": "light"
          }
        }
      ]
    },
    {
      "cell_type": "markdown",
      "metadata": {
        "id": "aRr9yfALfuEH"
      },
      "source": [
        "# Data Preprocessing"
      ]
    },
    {
      "cell_type": "code",
      "metadata": {
        "id": "gvQDdMdhfyTJ"
      },
      "source": [
        "#fill missing values for last review and reviews per month with 0\r\n",
        "df[[\"last_review\", \"reviews_per_month\"]] = df[[\"last_review\", \"reviews_per_month\"]].fillna(0)"
      ],
      "execution_count": null,
      "outputs": []
    },
    {
      "cell_type": "code",
      "metadata": {
        "id": "C9gnzArYfzos"
      },
      "source": [
        "#if there is no host name or listing name fill in None\r\n",
        "df[[\"name\", \"host_name\"]] = df[[\"name\", \"host_name\"]].fillna(\"None\")"
      ],
      "execution_count": null,
      "outputs": []
    },
    {
      "cell_type": "code",
      "metadata": {
        "id": "t6F1ri60f1PK"
      },
      "source": [
        "#Drop rows were price of the listing is 0. We are not intersted in \"free\" \r\n",
        "#listings as they are most likely an error.\r\n",
        "free = len(df[df.price == 0])\r\n",
        "data = df[df.price != 0].copy()"
      ],
      "execution_count": null,
      "outputs": []
    },
    {
      "cell_type": "code",
      "metadata": {
        "id": "M3aaILFHf2c6"
      },
      "source": [
        "df.replace({'room_type': {\"Entire home/apt\": 1,'Private room':0,'Shared room': 0}},inplace=True)"
      ],
      "execution_count": null,
      "outputs": []
    },
    {
      "cell_type": "code",
      "metadata": {
        "id": "ASo71xrnf8VE"
      },
      "source": [
        "cols=['neighbourhood','neighbourhood_group','name','host_id','host_name']\r\n",
        "df=df.drop(cols,axis=1)"
      ],
      "execution_count": null,
      "outputs": []
    },
    {
      "cell_type": "code",
      "metadata": {
        "colab": {
          "base_uri": "https://localhost:8080/"
        },
        "id": "ZLZsFZV5gCNI",
        "outputId": "c7ead8c9-7a17-4814-c38e-f237fbf5f08a"
      },
      "source": [
        "df.columns"
      ],
      "execution_count": null,
      "outputs": [
        {
          "output_type": "execute_result",
          "data": {
            "text/plain": [
              "Index(['id', 'latitude', 'longitude', 'room_type', 'price', 'minimum_nights',\n",
              "       'number_of_reviews', 'last_review', 'reviews_per_month',\n",
              "       'calculated_host_listings_count', 'availability_365'],\n",
              "      dtype='object')"
            ]
          },
          "metadata": {
            "tags": []
          },
          "execution_count": 18
        }
      ]
    },
    {
      "cell_type": "code",
      "metadata": {
        "colab": {
          "base_uri": "https://localhost:8080/"
        },
        "id": "BPqP99b6gHAA",
        "outputId": "a8af7089-ea40-46ab-b763-a4c26f94f36c"
      },
      "source": [
        "df.info()"
      ],
      "execution_count": null,
      "outputs": [
        {
          "output_type": "stream",
          "text": [
            "<class 'pandas.core.frame.DataFrame'>\n",
            "RangeIndex: 48895 entries, 0 to 48894\n",
            "Data columns (total 11 columns):\n",
            " #   Column                          Non-Null Count  Dtype  \n",
            "---  ------                          --------------  -----  \n",
            " 0   id                              48895 non-null  int64  \n",
            " 1   latitude                        48895 non-null  float64\n",
            " 2   longitude                       48895 non-null  float64\n",
            " 3   room_type                       48895 non-null  int64  \n",
            " 4   price                           48895 non-null  float64\n",
            " 5   minimum_nights                  48895 non-null  int64  \n",
            " 6   number_of_reviews               48895 non-null  int64  \n",
            " 7   last_review                     48895 non-null  object \n",
            " 8   reviews_per_month               48895 non-null  float64\n",
            " 9   calculated_host_listings_count  48895 non-null  int64  \n",
            " 10  availability_365                48895 non-null  int64  \n",
            "dtypes: float64(4), int64(6), object(1)\n",
            "memory usage: 4.1+ MB\n"
          ],
          "name": "stdout"
        }
      ]
    },
    {
      "cell_type": "code",
      "metadata": {
        "id": "E84u3TWUgPrv"
      },
      "source": [
        "df['last_review'] = pd.to_datetime(df['last_review'])"
      ],
      "execution_count": null,
      "outputs": []
    },
    {
      "cell_type": "code",
      "metadata": {
        "id": "2TE6GSKYggS0"
      },
      "source": [
        "df['last_review']=pd.to_numeric(df['last_review'])"
      ],
      "execution_count": null,
      "outputs": []
    },
    {
      "cell_type": "markdown",
      "metadata": {
        "id": "9IsXsgtkgl34"
      },
      "source": [
        "#Linear Regression"
      ]
    },
    {
      "cell_type": "code",
      "metadata": {
        "id": "bzNrAgW1BNAe"
      },
      "source": [
        "from sklearn.model_selection import train_test_split"
      ],
      "execution_count": null,
      "outputs": []
    },
    {
      "cell_type": "code",
      "metadata": {
        "id": "VcdzFm1bBRNh"
      },
      "source": [
        "X = df.drop('room_type',axis=1)\r\n",
        "y = df['room_type']"
      ],
      "execution_count": null,
      "outputs": []
    },
    {
      "cell_type": "code",
      "metadata": {
        "id": "ZrmW2v6kBS1L"
      },
      "source": [
        "X_train,X_test,y_train,y_test = train_test_split(X,y,test_size = 0.2,random_state=7)"
      ],
      "execution_count": null,
      "outputs": []
    },
    {
      "cell_type": "code",
      "metadata": {
        "id": "UYk-1rzvgIBE",
        "colab": {
          "base_uri": "https://localhost:8080/"
        },
        "outputId": "b27c7cfb-13d3-478b-b685-6b9a5d6e308f"
      },
      "source": [
        "reg = linear_model.LinearRegression()\r\n",
        "reg.fit(X_train, y_train)"
      ],
      "execution_count": null,
      "outputs": [
        {
          "output_type": "execute_result",
          "data": {
            "text/plain": [
              "LinearRegression(copy_X=True, fit_intercept=True, n_jobs=None, normalize=False)"
            ]
          },
          "metadata": {
            "tags": []
          },
          "execution_count": 25
        }
      ]
    },
    {
      "cell_type": "code",
      "metadata": {
        "id": "uMfLP7hICAY2",
        "colab": {
          "base_uri": "https://localhost:8080/"
        },
        "outputId": "872c964b-9a5b-44b9-fa6e-e160d107cd52"
      },
      "source": [
        "print('Coefficients:\\n {}'.format(str(reg.coef_)))\r\n",
        "print('\\nIntercept:', reg.intercept_)\r\n",
        "print('\\nRMSE: {}'.format(np.sqrt(mean_squared_error(y_train, reg.predict(X_train)))))\r\n",
        "print('\\nR^2 train: {}'.format(reg.score(X_train, y_train)))"
      ],
      "execution_count": null,
      "outputs": [
        {
          "output_type": "stream",
          "text": [
            "Coefficients:\n",
            " [-2.51272054e-09 -8.60891437e-31 -1.10223187e-18  4.29710269e-18\n",
            "  1.22466622e-16  2.93446962e-15  2.57359630e-21 -8.75940650e-17\n",
            " -8.83928334e-16 -2.79807006e-15]\n",
            "\n",
            "Intercept: 0.5639147510936575\n",
            "\n",
            "RMSE: 0.49884645838490765\n",
            "\n",
            "R^2 train: 0.003119352865242342\n"
          ],
          "name": "stdout"
        }
      ]
    },
    {
      "cell_type": "code",
      "metadata": {
        "id": "ywoe8UeCCNio",
        "colab": {
          "base_uri": "https://localhost:8080/"
        },
        "outputId": "0f677aaf-2572-4d82-831c-501b2dbaf190"
      },
      "source": [
        "print('Coefficients:\\n {}'.format(str(reg.coef_)))\r\n",
        "print('\\nIntercept:', reg.intercept_)\r\n",
        "print('\\n' + 'RMSE: {}'.format(np.sqrt(mean_squared_error(y_test, reg.predict(X_test)))))\r\n",
        "print('\\nR^2 train: {}'.format(reg.score(X_test, y_test)))"
      ],
      "execution_count": null,
      "outputs": [
        {
          "output_type": "stream",
          "text": [
            "Coefficients:\n",
            " [-2.51272054e-09 -8.60891437e-31 -1.10223187e-18  4.29710269e-18\n",
            "  1.22466622e-16  2.93446962e-15  2.57359630e-21 -8.75940650e-17\n",
            " -8.83928334e-16 -2.79807006e-15]\n",
            "\n",
            "Intercept: 0.5639147510936575\n",
            "\n",
            "RMSE: 0.4988841440609175\n",
            "\n",
            "R^2 train: 0.002696783714485007\n"
          ],
          "name": "stdout"
        }
      ]
    },
    {
      "cell_type": "markdown",
      "metadata": {
        "id": "EkBS93SgjQNf"
      },
      "source": [
        "#Logistic Regression"
      ]
    },
    {
      "cell_type": "code",
      "metadata": {
        "id": "Zw5-X0-IgqpC"
      },
      "source": [
        "from sklearn.linear_model import LogisticRegression\r\n",
        "from sklearn.model_selection import train_test_split\r\n",
        "from sklearn.metrics import accuracy_score"
      ],
      "execution_count": null,
      "outputs": []
    },
    {
      "cell_type": "code",
      "metadata": {
        "id": "5db2UvS6gsgO"
      },
      "source": [
        "X = df.drop('room_type',axis=1)\r\n",
        "y = df['room_type']"
      ],
      "execution_count": null,
      "outputs": []
    },
    {
      "cell_type": "code",
      "metadata": {
        "id": "1Kx5zhdmgxim"
      },
      "source": [
        "seed = 7\r\n",
        "X_train,X_test,y_train,y_test = train_test_split(X,y,test_size = 0.2,random_state=7)"
      ],
      "execution_count": null,
      "outputs": []
    },
    {
      "cell_type": "code",
      "metadata": {
        "colab": {
          "base_uri": "https://localhost:8080/"
        },
        "id": "FwcGPc5hgzDg",
        "outputId": "6b0a69f6-c17a-4bf0-aec1-a45a244f804b"
      },
      "source": [
        "model = LogisticRegression()\r\n",
        "model.fit(X_train, y_train)"
      ],
      "execution_count": null,
      "outputs": [
        {
          "output_type": "execute_result",
          "data": {
            "text/plain": [
              "LogisticRegression(C=1.0, class_weight=None, dual=False, fit_intercept=True,\n",
              "                   intercept_scaling=1, l1_ratio=None, max_iter=100,\n",
              "                   multi_class='auto', n_jobs=None, penalty='l2',\n",
              "                   random_state=None, solver='lbfgs', tol=0.0001, verbose=0,\n",
              "                   warm_start=False)"
            ]
          },
          "metadata": {
            "tags": []
          },
          "execution_count": 31
        }
      ]
    },
    {
      "cell_type": "code",
      "metadata": {
        "id": "hFpDGfgXg_tJ"
      },
      "source": [
        "y_predicted = model.predict(X_test)"
      ],
      "execution_count": null,
      "outputs": []
    },
    {
      "cell_type": "code",
      "metadata": {
        "colab": {
          "base_uri": "https://localhost:8080/"
        },
        "id": "3_UiJy7ChDYG",
        "outputId": "71968a63-83a9-4537-f14d-10fde2cd8827"
      },
      "source": [
        "model.predict_proba(X_test)"
      ],
      "execution_count": null,
      "outputs": [
        {
          "output_type": "execute_result",
          "data": {
            "text/plain": [
              "array([[0.47805605, 0.52194395],\n",
              "       [0.47784601, 0.52215399],\n",
              "       [0.47889133, 0.52110867],\n",
              "       ...,\n",
              "       [0.47751169, 0.52248831],\n",
              "       [0.47883166, 0.52116834],\n",
              "       [0.47954148, 0.52045852]])"
            ]
          },
          "metadata": {
            "tags": []
          },
          "execution_count": 33
        }
      ]
    },
    {
      "cell_type": "code",
      "metadata": {
        "colab": {
          "base_uri": "https://localhost:8080/"
        },
        "id": "n7QduqBchFH_",
        "outputId": "81c17acf-2615-458a-9535-fdd67244003e"
      },
      "source": [
        "model.score(X_test,y_test)"
      ],
      "execution_count": null,
      "outputs": [
        {
          "output_type": "execute_result",
          "data": {
            "text/plain": [
              "0.5235709172717047"
            ]
          },
          "metadata": {
            "tags": []
          },
          "execution_count": 34
        }
      ]
    },
    {
      "cell_type": "code",
      "metadata": {
        "colab": {
          "base_uri": "https://localhost:8080/"
        },
        "id": "zreyiVpZhHTR",
        "outputId": "ff1b85d3-936f-4306-aea3-1f4ae39ae227"
      },
      "source": [
        "# with statsmodels\r\n",
        "import statsmodels.api as sm\r\n",
        "# adding a constant\r\n",
        " \r\n",
        "model = sm.Logit(y_train, X_train).fit()\r\n",
        "predictions = model.predict(X_train) \r\n",
        " \r\n",
        "print_model = model.summary()\r\n",
        "print(print_model)"
      ],
      "execution_count": null,
      "outputs": [
        {
          "output_type": "stream",
          "text": [
            "/usr/local/lib/python3.6/dist-packages/statsmodels/tools/_testing.py:19: FutureWarning: pandas.util.testing is deprecated. Use the functions in the public API at pandas.testing instead.\n",
            "  import pandas.util.testing as tm\n"
          ],
          "name": "stderr"
        },
        {
          "output_type": "stream",
          "text": [
            "Optimization terminated successfully.\n",
            "         Current function value: 0.423199\n",
            "         Iterations 7\n",
            "                           Logit Regression Results                           \n",
            "==============================================================================\n",
            "Dep. Variable:              room_type   No. Observations:                39116\n",
            "Model:                          Logit   Df Residuals:                    39114\n",
            "Method:                           MLE   Df Model:                            1\n",
            "Date:                Wed, 06 Jan 2021   Pseudo R-squ.:                  0.3888\n",
            "Time:                        09:38:23   Log-Likelihood:                -16554.\n",
            "converged:                       True   LL-Null:                       -27084.\n",
            "Covariance Type:            nonrobust   LLR p-value:                     0.000\n",
            "==================================================================================================\n",
            "                                     coef    std err          z      P>|z|      [0.025      0.975]\n",
            "--------------------------------------------------------------------------------------------------\n",
            "id                             -1.074e-08   1.57e-09     -6.838      0.000   -1.38e-08   -7.66e-09\n",
            "latitude                          -2.1141      0.222     -9.525      0.000      -2.549      -1.679\n",
            "longitude                         -0.9519      0.122     -7.787      0.000      -1.191      -0.712\n",
            "price                              3.3127      0.034     98.851      0.000       3.247       3.378\n",
            "minimum_nights                     0.0255      0.001     18.440      0.000       0.023       0.028\n",
            "number_of_reviews                 -0.0005      0.000     -1.120      0.263      -0.001       0.000\n",
            "last_review                     3.899e-19   2.55e-20     15.314      0.000     3.4e-19     4.4e-19\n",
            "reviews_per_month                  0.0595      0.013      4.643      0.000       0.034       0.085\n",
            "calculated_host_listings_count     0.0084      0.001      7.749      0.000       0.006       0.010\n",
            "availability_365                  -0.0026      0.000    -22.370      0.000      -0.003      -0.002\n",
            "==================================================================================================\n"
          ],
          "name": "stdout"
        }
      ]
    },
    {
      "cell_type": "code",
      "metadata": {
        "id": "2VjOJWwChLe9"
      },
      "source": [
        "from sklearn.linear_model import LogisticRegression\r\n",
        "from sklearn.metrics import classification_report\r\n",
        "\r\n",
        "\r\n",
        "#Build the model\r\n",
        "clf = LogisticRegression()\r\n",
        "\r\n",
        "# Train the classifier\r\n",
        "clf.fit(X_train, y_train)\r\n",
        "\r\n",
        "#test the model\r\n",
        "y_pred = clf.predict(X_test)\r\n",
        "\r\n",
        "#classification report\r\n",
        "cr = (classification_report(y_test, y_pred))"
      ],
      "execution_count": null,
      "outputs": []
    },
    {
      "cell_type": "code",
      "metadata": {
        "colab": {
          "base_uri": "https://localhost:8080/"
        },
        "id": "eIdeuBPYhN8i",
        "outputId": "cb504d39-c49e-4d05-da1e-7010ef01e50a"
      },
      "source": [
        "from sklearn.metrics import confusion_matrix, accuracy_score, precision_score, recall_score, f1_score\r\n",
        "confm = confusion_matrix(y_test, y_pred)\r\n",
        "pre = precision_score(y_test, y_pred)\r\n",
        "recall = recall_score(y_test, y_pred)\r\n",
        "f1_score = f1_score(y_test, y_pred)\r\n",
        "\r\n",
        "print(\"Confusion Matrix: \\n\", confm)\r\n",
        "print(\"Precision: \", pre)\r\n",
        "print(\"Recall: \", recall)\r\n",
        "print(\"F1 Score: \", f1_score)"
      ],
      "execution_count": null,
      "outputs": [
        {
          "output_type": "stream",
          "text": [
            "Confusion Matrix: \n",
            " [[1026 3658]\n",
            " [1001 4094]]\n",
            "Precision:  0.5281217750257998\n",
            "Recall:  0.8035328753680079\n",
            "F1 Score:  0.6373472406009186\n"
          ],
          "name": "stdout"
        }
      ]
    },
    {
      "cell_type": "code",
      "metadata": {
        "colab": {
          "base_uri": "https://localhost:8080/",
          "height": 344
        },
        "id": "SdRE7HOnhQJa",
        "outputId": "b13c64de-786c-4876-f9ca-0cea18903eda"
      },
      "source": [
        "sns.heatmap(pd.DataFrame(confm), annot=True,  fmt='g')\r\n",
        "plt.tight_layout()\r\n",
        "plt.title('Confusion matrix', y=1.1)\r\n",
        "plt.ylabel('Actual label')\r\n",
        "plt.xlabel('Predicted label')"
      ],
      "execution_count": null,
      "outputs": [
        {
          "output_type": "execute_result",
          "data": {
            "text/plain": [
              "Text(0.5, 15.0, 'Predicted label')"
            ]
          },
          "metadata": {
            "tags": []
          },
          "execution_count": 38
        },
        {
          "output_type": "display_data",
          "data": {
            "image/png": "[encoded data removed]",
            "text/plain": [
              "<Figure size 432x288 with 2 Axes>"
            ]
          },
          "metadata": {
            "tags": [],
            "needs_background": "light"
          }
        }
      ]
    },
    {
      "cell_type": "code",
      "metadata": {
        "colab": {
          "base_uri": "https://localhost:8080/"
        },
        "id": "W514H130hSSI",
        "outputId": "cf8b5a8e-1918-4168-a47f-41ab076aaf0f"
      },
      "source": [
        "accuracy = accuracy_score(y_test,y_pred)\r\n",
        "accuracy"
      ],
      "execution_count": null,
      "outputs": [
        {
          "output_type": "execute_result",
          "data": {
            "text/plain": [
              "0.5235709172717047"
            ]
          },
          "metadata": {
            "tags": []
          },
          "execution_count": 39
        }
      ]
    },
    {
      "cell_type": "code",
      "metadata": {
        "id": "fB3IDoIVFW06",
        "colab": {
          "base_uri": "https://localhost:8080/"
        },
        "outputId": "38424123-181a-4274-94ba-7ca0b62ac156"
      },
      "source": [
        "print('\\n' + 'RMSE: {}'.format(np.sqrt(mean_squared_error(y_train, clf.predict(X_train)))))\r\n",
        "print('\\nR^2 train: {}'.format(clf.score(X_train, y_train)))"
      ],
      "execution_count": null,
      "outputs": [
        {
          "output_type": "stream",
          "text": [
            "\n",
            "RMSE: 0.6956433164225782\n",
            "\n",
            "R^2 train: 0.5160803763165968\n"
          ],
          "name": "stdout"
        }
      ]
    },
    {
      "cell_type": "code",
      "metadata": {
        "id": "E1x2VsToDFHW",
        "colab": {
          "base_uri": "https://localhost:8080/"
        },
        "outputId": "a8b82a6e-f778-4e2b-d183-a73abe7f1f03"
      },
      "source": [
        "print('\\n' + 'RMSE: {}'.format(np.sqrt(mean_squared_error(y_test, clf.predict(X_test)))))\r\n",
        "print('\\nR^2 train: {}'.format(clf.score(X_test, y_test)))"
      ],
      "execution_count": null,
      "outputs": [
        {
          "output_type": "stream",
          "text": [
            "\n",
            "RMSE: 0.6902384245521944\n",
            "\n",
            "R^2 train: 0.5235709172717047\n"
          ],
          "name": "stdout"
        }
      ]
    },
    {
      "cell_type": "code",
      "metadata": {
        "colab": {
          "base_uri": "https://localhost:8080/"
        },
        "id": "Pa-RoNXAhV4m",
        "outputId": "7c1ce906-32a0-42e8-cdb7-3dcacdba77f1"
      },
      "source": [
        "print(cr)"
      ],
      "execution_count": null,
      "outputs": [
        {
          "output_type": "stream",
          "text": [
            "              precision    recall  f1-score   support\n",
            "\n",
            "           0       0.51      0.22      0.31      4684\n",
            "           1       0.53      0.80      0.64      5095\n",
            "\n",
            "    accuracy                           0.52      9779\n",
            "   macro avg       0.52      0.51      0.47      9779\n",
            "weighted avg       0.52      0.52      0.48      9779\n",
            "\n"
          ],
          "name": "stdout"
        }
      ]
    },
    {
      "cell_type": "markdown",
      "metadata": {
        "id": "dAaVUuwHhbsX"
      },
      "source": [
        "#Naive Bayes"
      ]
    },
    {
      "cell_type": "code",
      "metadata": {
        "id": "nDnYjN-8hfMQ"
      },
      "source": [
        "from sklearn.model_selection import train_test_split\r\n",
        "X_train, X_test, y_train, y_test = train_test_split(X,y,test_size=0.3)"
      ],
      "execution_count": null,
      "outputs": []
    },
    {
      "cell_type": "code",
      "metadata": {
        "id": "0Gq8w-FMiBxp"
      },
      "source": [
        "from sklearn.naive_bayes import GaussianNB\r\n",
        "model = GaussianNB()"
      ],
      "execution_count": null,
      "outputs": []
    },
    {
      "cell_type": "code",
      "metadata": {
        "colab": {
          "base_uri": "https://localhost:8080/"
        },
        "id": "lfqlfeg6iPsr",
        "outputId": "5f209657-afb8-4f98-a943-664df576ba6c"
      },
      "source": [
        "model.fit(X_train,y_train)"
      ],
      "execution_count": null,
      "outputs": [
        {
          "output_type": "execute_result",
          "data": {
            "text/plain": [
              "GaussianNB(priors=None, var_smoothing=1e-09)"
            ]
          },
          "metadata": {
            "tags": []
          },
          "execution_count": 47
        }
      ]
    },
    {
      "cell_type": "code",
      "metadata": {
        "colab": {
          "base_uri": "https://localhost:8080/"
        },
        "id": "HyqsRjx3iSB-",
        "outputId": "172bdc90-e5ae-4029-8a4c-1e0f91bff54a"
      },
      "source": [
        "model.score(X_test,y_test)"
      ],
      "execution_count": null,
      "outputs": [
        {
          "output_type": "execute_result",
          "data": {
            "text/plain": [
              "0.5144863317199536"
            ]
          },
          "metadata": {
            "tags": []
          },
          "execution_count": 48
        }
      ]
    },
    {
      "cell_type": "code",
      "metadata": {
        "id": "0rW8xDayiUa1"
      },
      "source": [
        "y_pred1=model.predict(X_test[0:10])"
      ],
      "execution_count": null,
      "outputs": []
    },
    {
      "cell_type": "code",
      "metadata": {
        "colab": {
          "base_uri": "https://localhost:8080/"
        },
        "id": "RJTiiXlwiXJD",
        "outputId": "eac8b8bd-1ee4-4e7c-9ffc-baf9ea7c9f47"
      },
      "source": [
        "model.predict_proba(X_test[:10])"
      ],
      "execution_count": null,
      "outputs": [
        {
          "output_type": "execute_result",
          "data": {
            "text/plain": [
              "array([[0.50623166, 0.49376834],\n",
              "       [0.47035161, 0.52964839],\n",
              "       [0.47026235, 0.52973765],\n",
              "       [0.47031103, 0.52968897],\n",
              "       [0.47044388, 0.52955612],\n",
              "       [0.47026377, 0.52973623],\n",
              "       [0.50623166, 0.49376834],\n",
              "       [0.47023493, 0.52976507],\n",
              "       [0.4704355 , 0.5295645 ],\n",
              "       [0.47023168, 0.52976832]])"
            ]
          },
          "metadata": {
            "tags": []
          },
          "execution_count": 50
        }
      ]
    },
    {
      "cell_type": "code",
      "metadata": {
        "colab": {
          "base_uri": "https://localhost:8080/"
        },
        "id": "E9gvmgjziZ1W",
        "outputId": "6b998652-feca-4743-922a-617f7a28ac44"
      },
      "source": [
        "from sklearn.model_selection import cross_val_score\r\n",
        "cross_val_score(GaussianNB(),X_train, y_train, cv=5)"
      ],
      "execution_count": null,
      "outputs": [
        {
          "output_type": "execute_result",
          "data": {
            "text/plain": [
              "array([0.52132632, 0.51716581, 0.51176041, 0.52125639, 0.5230095 ])"
            ]
          },
          "metadata": {
            "tags": []
          },
          "execution_count": 51
        }
      ]
    },
    {
      "cell_type": "code",
      "metadata": {
        "id": "dTSQwBXoFfaR",
        "colab": {
          "base_uri": "https://localhost:8080/"
        },
        "outputId": "25e182ce-6929-4ba6-bb83-3f6f3ba088df"
      },
      "source": [
        "print('\\n' + 'RMSE: {}'.format(np.sqrt(mean_squared_error(y_train, model.predict(X_train)))))\r\n",
        "print('\\nR^2 train: {}'.format(model.score(X_train, y_train)))"
      ],
      "execution_count": null,
      "outputs": [
        {
          "output_type": "stream",
          "text": [
            "\n",
            "RMSE: 0.6936110167972879\n",
            "\n",
            "R^2 train: 0.5189037573774323\n"
          ],
          "name": "stdout"
        }
      ]
    },
    {
      "cell_type": "code",
      "metadata": {
        "id": "eN2H4ATeE9rC",
        "colab": {
          "base_uri": "https://localhost:8080/"
        },
        "outputId": "6ee4c69d-ff67-441f-f47e-cb9f05381800"
      },
      "source": [
        "print('\\n' + 'RMSE: {}'.format(np.sqrt(mean_squared_error(y_test, model.predict(X_test)))))\r\n",
        "print('\\nR^2 train: {}'.format(model.score(X_test, y_test)))"
      ],
      "execution_count": null,
      "outputs": [
        {
          "output_type": "stream",
          "text": [
            "\n",
            "RMSE: 0.6967881085954656\n",
            "\n",
            "R^2 train: 0.5144863317199536\n"
          ],
          "name": "stdout"
        }
      ]
    },
    {
      "cell_type": "markdown",
      "metadata": {
        "id": "W8CeR_AijDRW"
      },
      "source": [
        "#Lasso Regression"
      ]
    },
    {
      "cell_type": "code",
      "metadata": {
        "id": "FTbrl9utjEq8"
      },
      "source": [
        "import math \r\n",
        "import matplotlib.pyplot as plt \r\n",
        "import pandas as pd\r\n",
        "import numpy as np\r\n",
        "from sklearn.linear_model import Lasso\r\n",
        "from sklearn.linear_model import LinearRegression\r\n",
        "from sklearn.preprocessing import MinMaxScaler\r\n",
        "from sklearn.preprocessing import StandardScaler"
      ],
      "execution_count": null,
      "outputs": []
    },
    {
      "cell_type": "code",
      "metadata": {
        "id": "LQere8wxjFp7"
      },
      "source": [
        "X = df.drop('price',axis=1)\r\n",
        "y = df['price']"
      ],
      "execution_count": null,
      "outputs": []
    },
    {
      "cell_type": "code",
      "metadata": {
        "id": "c_3IzCTZjXx8"
      },
      "source": [
        "scaler=MinMaxScaler()\r\n",
        "\r\n",
        "scaler.fit(df[['latitude']])\r\n",
        "df['latitude']=scaler.transform(df[['latitude']])\r\n",
        "\r\n",
        "scaler.fit(df[['longitude']])\r\n",
        "df['longitude']=scaler.transform(df[['longitude']])\r\n",
        "\r\n",
        "scaler.fit(df[['room_type']])\r\n",
        "df['room_type']=scaler.transform(df[['room_type']])\r\n",
        "\r\n",
        "scaler.fit(df[['price']])\r\n",
        "df['price']=scaler.transform(df[['price']])\r\n",
        "\r\n",
        "scaler.fit(df[['minimum_nights']])\r\n",
        "df['minimum_nights']=scaler.transform(df[['minimum_nights']])\r\n",
        "\r\n",
        "scaler.fit(df[['number_of_reviews']])\r\n",
        "df['number_of_reviews']=scaler.transform(df[['number_of_reviews']])\r\n",
        "\r\n",
        "scaler.fit(df[['calculated_host_listings_count']])\r\n",
        "df['calculated_host_listings_count']=scaler.transform(df[['calculated_host_listings_count']])\r\n",
        "\r\n",
        "scaler.fit(df[['availability_365']])\r\n",
        "df['availability_365']=scaler.transform(df[['availability_365']])"
      ],
      "execution_count": null,
      "outputs": []
    },
    {
      "cell_type": "code",
      "metadata": {
        "id": "6bZ2hL68jwFX"
      },
      "source": [
        "X_train,X_test,y_train,y_test=train_test_split(X,y, test_size=0.3, random_state=31)"
      ],
      "execution_count": null,
      "outputs": []
    },
    {
      "cell_type": "code",
      "metadata": {
        "colab": {
          "base_uri": "https://localhost:8080/"
        },
        "id": "Tk5rVmioj2D1",
        "outputId": "9557c847-6374-4dc9-9348-263dc4be9242"
      },
      "source": [
        "lasso = Lasso()\r\n",
        "lasso.fit(X_train,y_train)"
      ],
      "execution_count": null,
      "outputs": [
        {
          "output_type": "execute_result",
          "data": {
            "text/plain": [
              "Lasso(alpha=1.0, copy_X=True, fit_intercept=True, max_iter=1000,\n",
              "      normalize=False, positive=False, precompute=False, random_state=None,\n",
              "      selection='cyclic', tol=0.0001, warm_start=False)"
            ]
          },
          "metadata": {
            "tags": []
          },
          "execution_count": 58
        }
      ]
    },
    {
      "cell_type": "code",
      "metadata": {
        "id": "1imSqkugj3Rn"
      },
      "source": [
        "train_score=lasso.score(X_train,y_train)\r\n",
        "test_score=lasso.score(X_test,y_test)"
      ],
      "execution_count": null,
      "outputs": []
    },
    {
      "cell_type": "code",
      "metadata": {
        "colab": {
          "base_uri": "https://localhost:8080/"
        },
        "id": "C0bJ0cIgj5oP",
        "outputId": "f1e814af-74f8-43dd-a1a3-ef057ab61279"
      },
      "source": [
        "coeff_used = np.sum(lasso.coef_!=0)\r\n",
        "coeff_used"
      ],
      "execution_count": null,
      "outputs": [
        {
          "output_type": "execute_result",
          "data": {
            "text/plain": [
              "5"
            ]
          },
          "metadata": {
            "tags": []
          },
          "execution_count": 60
        }
      ]
    },
    {
      "cell_type": "code",
      "metadata": {
        "colab": {
          "base_uri": "https://localhost:8080/"
        },
        "id": "ze3B2Mx-j7nN",
        "outputId": "3de10f3e-446a-4533-fe90-e0f6c661b55b"
      },
      "source": [
        "print (\"training score:\", train_score)\r\n",
        "print (\"test score: \", test_score)\r\n",
        "print (\"number of features used: \", coeff_used)"
      ],
      "execution_count": null,
      "outputs": [
        {
          "output_type": "stream",
          "text": [
            "training score: 0.027522057667814015\n",
            "test score:  0.03312144583130816\n",
            "number of features used:  5\n"
          ],
          "name": "stdout"
        }
      ]
    },
    {
      "cell_type": "code",
      "metadata": {
        "colab": {
          "base_uri": "https://localhost:8080/"
        },
        "id": "AR-XBH43j87_",
        "outputId": "c9dde3af-6949-4f2f-a550-99695150aafa"
      },
      "source": [
        "lasso001 = Lasso(alpha=0.01, max_iter=10e5)\r\n",
        "lasso001.fit(X_train,y_train)\r\n",
        "train_score001=lasso001.score(X_train,y_train)\r\n",
        "test_score001=lasso001.score(X_test,y_test)\r\n",
        "coeff_used001 = np.sum(lasso001.coef_!=0)\r\n",
        "\r\n",
        "print (\"training score for alpha=0.01:\", train_score001)\r\n",
        "print (\"test score for alpha =0.01: \", test_score001)\r\n",
        "print (\"number of features used: for alpha =0.01 is \", coeff_used001)"
      ],
      "execution_count": null,
      "outputs": [
        {
          "output_type": "stream",
          "text": [
            "training score for alpha=0.01: 0.39774844170270907\n",
            "test score for alpha =0.01:  0.40558600709307513\n",
            "number of features used: for alpha =0.01 is  7\n"
          ],
          "name": "stdout"
        }
      ]
    },
    {
      "cell_type": "code",
      "metadata": {
        "colab": {
          "base_uri": "https://localhost:8080/"
        },
        "id": "_7EejjvGkAMH",
        "outputId": "b2cf33c3-06a3-4787-cb11-8b927a6aa7e4"
      },
      "source": [
        "lasso00001 = Lasso(alpha=0.0001, max_iter=10e5)\r\n",
        "lasso00001.fit(X_train,y_train)\r\n",
        "train_score00001=lasso00001.score(X_train,y_train)\r\n",
        "test_score00001=lasso00001.score(X_test,y_test)\r\n",
        "coeff_used00001 = np.sum(lasso00001.coef_!=0)\r\n",
        "\r\n",
        "print (\"training score for alpha=0.0001:\", train_score00001) \r\n",
        "print (\"test score for alpha =0.0001: \", test_score00001)\r\n",
        "print (\"number of features used: for alpha =0.0001:\", coeff_used00001)"
      ],
      "execution_count": null,
      "outputs": [
        {
          "output_type": "stream",
          "text": [
            "training score for alpha=0.0001: 0.4564077537576994\n",
            "test score for alpha =0.0001:  0.4595692903695595\n",
            "number of features used: for alpha =0.0001: 10\n"
          ],
          "name": "stdout"
        }
      ]
    },
    {
      "cell_type": "code",
      "metadata": {
        "id": "uj6Amdo3F3se",
        "colab": {
          "base_uri": "https://localhost:8080/"
        },
        "outputId": "0fa5ae52-631e-43dc-faa1-880cbdcd08ea"
      },
      "source": [
        "print('\\n' + 'RMSE: {}'.format(np.sqrt(mean_squared_error(y_train, lasso00001.predict(X_train)))))\r\n",
        "print('\\nR^2 train: {}'.format(lasso00001.score(X_train, y_train)))"
      ],
      "execution_count": null,
      "outputs": [
        {
          "output_type": "stream",
          "text": [
            "\n",
            "RMSE: 0.5144692606956212\n",
            "\n",
            "R^2 train: 0.4564077537576994\n"
          ],
          "name": "stdout"
        }
      ]
    },
    {
      "cell_type": "code",
      "metadata": {
        "id": "Qlhu_uulF6fn",
        "colab": {
          "base_uri": "https://localhost:8080/"
        },
        "outputId": "c8708fcc-111e-45b7-e266-1a145bc416a8"
      },
      "source": [
        "print('\\n' + 'RMSE: {}'.format(np.sqrt(mean_squared_error(y_test, lasso00001.predict(X_test)))))\r\n",
        "print('\\nR^2 train: {}'.format(lasso00001.score(X_test, y_test)))"
      ],
      "execution_count": null,
      "outputs": [
        {
          "output_type": "stream",
          "text": [
            "\n",
            "RMSE: 0.5069043497070567\n",
            "\n",
            "R^2 train: 0.4595692903695595\n"
          ],
          "name": "stdout"
        }
      ]
    },
    {
      "cell_type": "markdown",
      "metadata": {
        "id": "x9uWAU24kOfv"
      },
      "source": [
        "#Ridge Regression"
      ]
    },
    {
      "cell_type": "code",
      "metadata": {
        "id": "t0l1UuBNkRaK"
      },
      "source": [
        "import matplotlib.pyplot as plt\r\n",
        "import numpy as np \r\n",
        "import pandas as pd\r\n",
        "import matplotlib\r\n",
        "matplotlib.rcParams.update({'font.size': 12})\r\n",
        "from sklearn.datasets import load_boston\r\n",
        "from sklearn.model_selection import train_test_split\r\n",
        "from sklearn.linear_model import LinearRegression\r\n",
        "from sklearn.linear_model import Ridge"
      ],
      "execution_count": null,
      "outputs": []
    },
    {
      "cell_type": "code",
      "metadata": {
        "colab": {
          "base_uri": "https://localhost:8080/"
        },
        "id": "C3MuTJApkSa4",
        "outputId": "9bd9af22-cb73-4409-d5ab-d2234ae65c6b"
      },
      "source": [
        "X_train,X_test,y_train,y_test=train_test_split(X,y,test_size=0.3,random_state=3)\r\n",
        "print (len(X_train), len(y_train))\r\n",
        "print (len(X_test), len(y_test))"
      ],
      "execution_count": null,
      "outputs": [
        {
          "output_type": "stream",
          "text": [
            "34226 34226\n",
            "14669 14669\n"
          ],
          "name": "stdout"
        }
      ]
    },
    {
      "cell_type": "code",
      "metadata": {
        "colab": {
          "base_uri": "https://localhost:8080/"
        },
        "id": "7GB6AaE5kU4G",
        "outputId": "cc8131e8-ccae-4208-a5c3-8a8e45852791"
      },
      "source": [
        "lr = LinearRegression()\r\n",
        "lr.fit(X_train, y_train)"
      ],
      "execution_count": null,
      "outputs": [
        {
          "output_type": "execute_result",
          "data": {
            "text/plain": [
              "LinearRegression(copy_X=True, fit_intercept=True, n_jobs=None, normalize=False)"
            ]
          },
          "metadata": {
            "tags": []
          },
          "execution_count": 68
        }
      ]
    },
    {
      "cell_type": "code",
      "metadata": {
        "colab": {
          "base_uri": "https://localhost:8080/"
        },
        "id": "d4z9xSovkYIT",
        "outputId": "814d70f2-4f6b-48e1-e19f-b83016ef1b78"
      },
      "source": [
        "rr = Ridge(alpha=0.01) \r\n",
        "# higher the alpha value, more restriction on the coefficients; \r\n",
        "#low alpha > more generalization, coefficients are barely\r\n",
        "# restricted and in this case linear and ridge regression resembles\r\n",
        "rr.fit(X_train, y_train)"
      ],
      "execution_count": null,
      "outputs": [
        {
          "output_type": "stream",
          "text": [
            "/usr/local/lib/python3.6/dist-packages/sklearn/linear_model/_ridge.py:148: LinAlgWarning: Ill-conditioned matrix (rcond=4.5408e-39): result may not be accurate.\n",
            "  overwrite_a=True).T\n"
          ],
          "name": "stderr"
        },
        {
          "output_type": "execute_result",
          "data": {
            "text/plain": [
              "Ridge(alpha=0.01, copy_X=True, fit_intercept=True, max_iter=None,\n",
              "      normalize=False, random_state=None, solver='auto', tol=0.001)"
            ]
          },
          "metadata": {
            "tags": []
          },
          "execution_count": 69
        }
      ]
    },
    {
      "cell_type": "code",
      "metadata": {
        "colab": {
          "base_uri": "https://localhost:8080/"
        },
        "id": "KOzQZfiLka0_",
        "outputId": "682f4982-80d5-4782-d54c-75bd0b44c28e"
      },
      "source": [
        "rr100 = Ridge(alpha=100) #  comparison with alpha value\r\n",
        "rr100.fit(X_train, y_train)"
      ],
      "execution_count": null,
      "outputs": [
        {
          "output_type": "stream",
          "text": [
            "/usr/local/lib/python3.6/dist-packages/sklearn/linear_model/_ridge.py:148: LinAlgWarning: Ill-conditioned matrix (rcond=1.17928e-38): result may not be accurate.\n",
            "  overwrite_a=True).T\n"
          ],
          "name": "stderr"
        },
        {
          "output_type": "execute_result",
          "data": {
            "text/plain": [
              "Ridge(alpha=100, copy_X=True, fit_intercept=True, max_iter=None,\n",
              "      normalize=False, random_state=None, solver='auto', tol=0.001)"
            ]
          },
          "metadata": {
            "tags": []
          },
          "execution_count": 70
        }
      ]
    },
    {
      "cell_type": "code",
      "metadata": {
        "id": "_YuKuq1nkclC"
      },
      "source": [
        "train_score=lr.score(X_train, y_train)\r\n",
        "test_score=lr.score(X_test, y_test)\r\n",
        "\r\n",
        "Ridge_train_score = rr.score(X_train,y_train)\r\n",
        "Ridge_test_score = rr.score(X_test, y_test)\r\n",
        "\r\n",
        "Ridge_train_score100 = rr100.score(X_train,y_train)\r\n",
        "Ridge_test_score100 = rr100.score(X_test, y_test)"
      ],
      "execution_count": null,
      "outputs": []
    },
    {
      "cell_type": "code",
      "metadata": {
        "colab": {
          "base_uri": "https://localhost:8080/"
        },
        "id": "IpXYW0_1kepD",
        "outputId": "00a4927d-4c1c-4a88-e195-13f1e5f4495d"
      },
      "source": [
        "print (\"linear regression train score:\", train_score)\r\n",
        "print (\"linear regression test score:\", test_score)\r\n",
        "print (\"ridge regression train score low alpha:\", Ridge_train_score)\r\n",
        "print (\"ridge regression test score low alpha:\", Ridge_test_score)\r\n",
        "print (\"ridge regression train score high alpha:\", Ridge_train_score100)\r\n",
        "print (\"ridge regression test score high alpha:\", Ridge_test_score100)"
      ],
      "execution_count": null,
      "outputs": [
        {
          "output_type": "stream",
          "text": [
            "linear regression train score: 0.007409725964519387\n",
            "linear regression test score: 0.00830485869269404\n",
            "ridge regression train score low alpha: 0.4598301736637802\n",
            "ridge regression test score low alpha: 0.45127523578679474\n",
            "ridge regression train score high alpha: 0.43930161760806674\n",
            "ridge regression test score high alpha: 0.43158029473373716\n"
          ],
          "name": "stdout"
        }
      ]
    },
    {
      "cell_type": "code",
      "metadata": {
        "colab": {
          "base_uri": "https://localhost:8080/",
          "height": 268
        },
        "id": "MgHUxDt0kgDp",
        "outputId": "a13e719c-d37b-4826-b1d1-3c84e6073094"
      },
      "source": [
        "plt.plot(rr.coef_,alpha=0.7,linestyle='none',marker='*',markersize=5,color='red',label=r'Ridge; $\\alpha = 0.01$',zorder=7)\r\n",
        "# zorder for ordering the markers\r\n",
        "\r\n",
        "plt.show()"
      ],
      "execution_count": null,
      "outputs": [
        {
          "output_type": "display_data",
          "data": {
            "image/png": "[encoded data removed]",
            "text/plain": [
              "<Figure size 432x288 with 1 Axes>"
            ]
          },
          "metadata": {
            "tags": [],
            "needs_background": "light"
          }
        }
      ]
    },
    {
      "cell_type": "code",
      "metadata": {
        "colab": {
          "base_uri": "https://localhost:8080/",
          "height": 268
        },
        "id": "eYdf_NWVkhlm",
        "outputId": "ed0ae670-cba1-4023-87dc-8a105c2e92ce"
      },
      "source": [
        "plt.plot(rr100.coef_,alpha=0.5,linestyle='none',marker='d',markersize=6,color='blue',label=r'Ridge; $\\alpha = 100$') \r\n",
        "# alpha here is for transparency\r\n",
        "plt.show()"
      ],
      "execution_count": null,
      "outputs": [
        {
          "output_type": "display_data",
          "data": {
            "image/png": "[encoded data removed]",
            "text/plain": [
              "<Figure size 432x288 with 1 Axes>"
            ]
          },
          "metadata": {
            "tags": [],
            "needs_background": "light"
          }
        }
      ]
    },
    {
      "cell_type": "code",
      "metadata": {
        "colab": {
          "base_uri": "https://localhost:8080/",
          "height": 281
        },
        "id": "wZzhUDQWkjON",
        "outputId": "597d9890-c334-414e-afbf-4021319fb624"
      },
      "source": [
        "plt.plot(lr.coef_,alpha=0.4,linestyle='none',marker='o',markersize=7,color='green',label='Linear Regression')\r\n",
        "plt.show()"
      ],
      "execution_count": null,
      "outputs": [
        {
          "output_type": "display_data",
          "data": {
            "image/png": "[encoded data removed]",
            "text/plain": [
              "<Figure size 432x288 with 1 Axes>"
            ]
          },
          "metadata": {
            "tags": [],
            "needs_background": "light"
          }
        }
      ]
    },
    {
      "cell_type": "code",
      "metadata": {
        "colab": {
          "base_uri": "https://localhost:8080/",
          "height": 287
        },
        "id": "kGG3u0QTkkud",
        "outputId": "d1194cfb-399b-4f8a-e838-bf36e9b0c9f9"
      },
      "source": [
        "plt.plot(rr.coef_,alpha=0.7,linestyle='none',marker='*',markersize=5,color='red',label=r'Ridge; $\\alpha = 0.01$',zorder=7) # zorder for ordering the markers\r\n",
        "plt.plot(rr100.coef_,alpha=0.5,linestyle='none',marker='d',markersize=6,color='blue',label=r'Ridge; $\\alpha = 100$') # alpha here is for transparency\r\n",
        "plt.plot(lr.coef_,alpha=0.4,linestyle='none',marker='o',markersize=7,color='green',label='Linear Regression')\r\n",
        "plt.xlabel('Coefficient Index',fontsize=16)\r\n",
        "plt.ylabel('Coefficient Magnitude',fontsize=16)\r\n",
        "plt.legend(fontsize=13,loc=4)\r\n",
        "plt.show()"
      ],
      "execution_count": null,
      "outputs": [
        {
          "output_type": "display_data",
          "data": {
            "image/png": "[encoded data removed]",
            "text/plain": [
              "<Figure size 432x288 with 1 Axes>"
            ]
          },
          "metadata": {
            "tags": [],
            "needs_background": "light"
          }
        }
      ]
    },
    {
      "cell_type": "code",
      "metadata": {
        "id": "NO9MyEVUHMjH",
        "colab": {
          "base_uri": "https://localhost:8080/"
        },
        "outputId": "21bbd641-2c40-4fc1-df44-4f49bc7a22d2"
      },
      "source": [
        "print('\\n' + 'RMSE: {}'.format(np.sqrt(mean_squared_error(y_train, rr.predict(X_train)))))\r\n",
        "print('\\nR^2 train: {}'.format(rr.score(X_train, y_train)))"
      ],
      "execution_count": null,
      "outputs": [
        {
          "output_type": "stream",
          "text": [
            "\n",
            "RMSE: 0.5084430394834457\n",
            "\n",
            "R^2 train: 0.4598301736637802\n"
          ],
          "name": "stdout"
        }
      ]
    },
    {
      "cell_type": "code",
      "metadata": {
        "id": "zXN5N7BNHNgQ",
        "colab": {
          "base_uri": "https://localhost:8080/"
        },
        "outputId": "9403a49a-8ae4-44e9-ad43-7cdfbea8e842"
      },
      "source": [
        "print('\\n' + 'RMSE: {}'.format(np.sqrt(mean_squared_error(y_test, rr.predict(X_test)))))\r\n",
        "print('\\nR^2 train: {}'.format(rr.score(X_test, y_test)))"
      ],
      "execution_count": null,
      "outputs": [
        {
          "output_type": "stream",
          "text": [
            "\n",
            "RMSE: 0.5210812079888424\n",
            "\n",
            "R^2 train: 0.45127523578679474\n"
          ],
          "name": "stdout"
        }
      ]
    },
    {
      "cell_type": "markdown",
      "metadata": {
        "id": "1E4ZkskumBQ2"
      },
      "source": [
        "#Decision Tree"
      ]
    },
    {
      "cell_type": "code",
      "metadata": {
        "id": "R0reiowomCyb"
      },
      "source": [
        "X = df.drop(['price'], axis=1) ## Independent variable\r\n",
        "y = df['price'] ## Dependent variable"
      ],
      "execution_count": null,
      "outputs": []
    },
    {
      "cell_type": "code",
      "metadata": {
        "id": "1GgccqijmZXj"
      },
      "source": [
        "from sklearn.model_selection import train_test_split\r\n",
        "\r\n",
        "X_train, X_test, y_train, y_test = train_test_split(X, y, test_size=0.30, random_state = 42)"
      ],
      "execution_count": null,
      "outputs": []
    },
    {
      "cell_type": "code",
      "metadata": {
        "id": "OVjjp0TTmdub"
      },
      "source": [
        "from sklearn.preprocessing import StandardScaler\r\n",
        "\r\n",
        "sc = StandardScaler()\r\n",
        "\r\n",
        "X_train = sc.fit_transform(X_train)\r\n",
        "X_test = sc.transform(X_test)"
      ],
      "execution_count": null,
      "outputs": []
    },
    {
      "cell_type": "code",
      "metadata": {
        "colab": {
          "base_uri": "https://localhost:8080/"
        },
        "id": "TG6ta33RkmJT",
        "outputId": "745a914f-48e4-41d6-c791-74e913332cef"
      },
      "source": [
        "from sklearn.tree import DecisionTreeRegressor\r\n",
        "dtree = DecisionTreeRegressor(criterion='mse')\r\n",
        "dtree.fit(X_train, y_train)\r\n",
        "\r\n",
        "\r\n",
        "dtree_pred = dtree.predict(X_test)\r\n",
        "\r\n",
        "r2 = r2_score(y_test,dtree_pred)\r\n",
        "print('R-Square Score: ',r2*100)\r\n",
        "\r\n",
        "# Calculate the absolute errors\r\n",
        "dtree_errors = abs(dtree_pred - y_test)\r\n",
        "# Print out the mean absolute error (mae)\r\n",
        "print('Mean Absolute Error:', round(np.mean(dtree_pred), 2), 'degrees.')"
      ],
      "execution_count": null,
      "outputs": [
        {
          "output_type": "stream",
          "text": [
            "R-Square Score:  21.063501147603468\n",
            "Mean Absolute Error: 0.52 degrees.\n"
          ],
          "name": "stdout"
        }
      ]
    },
    {
      "cell_type": "code",
      "metadata": {
        "colab": {
          "base_uri": "https://localhost:8080/"
        },
        "id": "8Lg1K46UlB26",
        "outputId": "cdbd7b93-dfc7-44c9-9c34-414457c28c54"
      },
      "source": [
        "from sklearn.metrics import mean_absolute_error,mean_squared_error\r\n",
        "\r\n",
        "print('mse:',mean_squared_error(y_test, dtree_pred))\r\n",
        "print('mae:',mean_absolute_error(y_test, dtree_pred))\r\n",
        "print('rmse', np.sqrt(mean_absolute_error(y_test, dtree_pred)))"
      ],
      "execution_count": null,
      "outputs": [
        {
          "output_type": "stream",
          "text": [
            "mse: 0.004397802203796303\n",
            "mae: 0.047059260970737066\n",
            "rmse 0.2169314660687496\n"
          ],
          "name": "stdout"
        }
      ]
    },
    {
      "cell_type": "markdown",
      "metadata": {
        "id": "8IzmhMOgvkup"
      },
      "source": [
        "# Random Forest"
      ]
    },
    {
      "cell_type": "code",
      "metadata": {
        "colab": {
          "base_uri": "https://localhost:8080/"
        },
        "id": "RjJcRwQTvcUi",
        "outputId": "40d58e11-60a8-4d49-8bf3-666434a7e6f4"
      },
      "source": [
        "from sklearn.ensemble import RandomForestRegressor\r\n",
        "\r\n",
        "random_forest_regressor = RandomForestRegressor()\r\n",
        "random_forest_regressor.fit(X_train, y_train)\r\n",
        "\r\n",
        "rf_pred = random_forest_regressor.predict(X_test)\r\n",
        "\r\n",
        "r2 = r2_score(y_test,rf_pred)\r\n",
        "print('R-Square Score: ',r2*100)\r\n",
        "\r\n",
        "# Calculate the absolute errors\r\n",
        "rf_errors = abs(rf_pred - y_test)\r\n",
        "# Print out the mean absolute error (mae)\r\n",
        "print('Mean Absolute Error:', round(np.mean(rf_pred), 2), 'degrees.')"
      ],
      "execution_count": null,
      "outputs": [
        {
          "output_type": "stream",
          "text": [
            "R-Square Score:  60.82969913131171\n",
            "Mean Absolute Error: 0.51 degrees.\n"
          ],
          "name": "stdout"
        }
      ]
    },
    {
      "cell_type": "code",
      "metadata": {
        "colab": {
          "base_uri": "https://localhost:8080/"
        },
        "id": "A55FC7VFvqAx",
        "outputId": "b1ec8e9b-91c8-4bd1-9c43-82ef9052c820"
      },
      "source": [
        "print('mse:',mean_squared_error(y_test, rf_pred))\r\n",
        "print('mae:',mean_absolute_error(y_test, rf_pred))\r\n",
        "print('rmse', np.sqrt(mean_absolute_error(y_test, rf_pred)))"
      ],
      "execution_count": null,
      "outputs": [
        {
          "output_type": "stream",
          "text": [
            "mse: 0.002182301444681463\n",
            "mae: 0.033624939193468796\n",
            "rmse 0.18337104240710636\n"
          ],
          "name": "stdout"
        }
      ]
    },
    {
      "cell_type": "markdown",
      "metadata": {
        "id": "yECNTCgZ_VgW"
      },
      "source": [
        " **Boosting**"
      ]
    },
    {
      "cell_type": "code",
      "metadata": {
        "id": "9IfDHoZJv1sF",
        "colab": {
          "base_uri": "https://localhost:8080/"
        },
        "outputId": "5a4df146-d499-43da-afca-c9737dba87f2"
      },
      "source": [
        "import xgboost as xgb\r\n",
        "\r\n",
        "xg_boost = xgb.XGBRegressor()\r\n",
        "\r\n",
        "xg_boost.fit(X_train, y_train)\r\n",
        "\r\n",
        "xgb_pred = xg_boost.predict(X_test)\r\n",
        "\r\n",
        "r2 = r2_score(y_test,xgb_pred)\r\n",
        "print('R-Square Score: ',r2*100)\r\n",
        "\r\n",
        "# Calculate the absolute errors\r\n",
        "xgb_errors = abs(xgb_pred - y_test)\r\n",
        "# Print out the mean absolute error (mae)\r\n",
        "print('Mean Absolute Error:', round(np.mean(xgb_pred), 2), 'degrees.')"
      ],
      "execution_count": null,
      "outputs": [
        {
          "output_type": "stream",
          "text": [
            "[09:47:23] WARNING: /workspace/src/objective/regression_obj.cu:152: reg:linear is now deprecated in favor of reg:squarederror.\n",
            "R-Square Score:  58.485765978319314\n",
            "Mean Absolute Error: 0.51 degrees.\n"
          ],
          "name": "stdout"
        }
      ]
    },
    {
      "cell_type": "code",
      "metadata": {
        "id": "DrgpZPCM67rz",
        "colab": {
          "base_uri": "https://localhost:8080/"
        },
        "outputId": "b44b008d-db61-4687-cd98-ab290b2d5140"
      },
      "source": [
        "print('mse:',mean_squared_error(y_test, xgb_pred))\r\n",
        "print('mae:',mean_absolute_error(y_test, xgb_pred))\r\n",
        "print('rmse', np.sqrt(mean_absolute_error(y_test, xgb_pred)))"
      ],
      "execution_count": null,
      "outputs": [
        {
          "output_type": "stream",
          "text": [
            "mse: 0.002312889379738684\n",
            "mae: 0.0347576687808947\n",
            "rmse 0.18643408696076666\n"
          ],
          "name": "stdout"
        }
      ]
    },
    {
      "cell_type": "code",
      "metadata": {
        "id": "vWufCce7Y9AZ"
      },
      "source": [
        ""
      ],
      "execution_count": null,
      "outputs": []
    }
  ]
}